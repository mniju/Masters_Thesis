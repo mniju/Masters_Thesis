{
 "cells": [
  {
   "cell_type": "code",
   "execution_count": 47,
   "metadata": {},
   "outputs": [],
   "source": [
    "import os\n",
    "import pandas as pd\n",
    "import seaborn as sns\n",
    "\n",
    "%matplotlib inline"
   ]
  },
  {
   "cell_type": "code",
   "execution_count": 63,
   "metadata": {},
   "outputs": [],
   "source": [
    "folder_path = 'D:\\\\CloudSim2\\\\MultiLogsRL_Logs\\\\QlearningSoftmax\\\\Qlearning_softmax_0.8_0.6\\log'\n",
    "file_list = os.listdir(folder_path)"
   ]
  },
  {
   "cell_type": "code",
   "execution_count": 64,
   "metadata": {},
   "outputs": [],
   "source": [
    "\n",
    "def last_few_lines(file_name,n_lines):\n",
    "    file_handle = open(file_name)\n",
    "    file_size = file_handle.tell()\n",
    "    file_handle.seek(max(file_size - 2*1024, 0))\n",
    "    return file_handle.read().splitlines()[-n_lines:]"
   ]
  },
  {
   "cell_type": "code",
   "execution_count": 65,
   "metadata": {},
   "outputs": [],
   "source": [
    "\n",
    "required_indices = [0,4,5,6]\n",
    "all_run_summary =[]\n",
    "for file in file_list:\n",
    "    file_name = os.path.join(folder_path,file)\n",
    "    run_summary   = last_few_lines(file_name,25)\n",
    "    run_summary_required = [run_summary[index] for index in required_indices]\n",
    "    run_data =[]\n",
    "    for line in run_summary_required:\n",
    "        idx = line.find(':')\n",
    "        summary = line[idx+1:].strip()\n",
    "        run_data.append(summary)\n",
    "    all_run_summary.append(run_data)"
   ]
  },
  {
   "cell_type": "code",
   "execution_count": 66,
   "metadata": {},
   "outputs": [
    {
     "data": {
      "text/plain": [
       "[['20110303_lr_RL_1.2', '142.26 kWh', '17756', '0.00724%'],\n",
       " ['20110306_lr_RL_1.2', '107.01 kWh', '13160', '0.00667%'],\n",
       " ['20110309_lr_RL_1.2', '120.46 kWh', '15429', '0.00816%'],\n",
       " ['20110322_lr_RL_1.2', '150.50 kWh', '22709', '0.00788%'],\n",
       " ['20110325_lr_RL_1.2', '128.59 kWh', '17391', '0.00760%'],\n",
       " ['20110403_lr_RL_1.2', '195.70 kWh', '26847', '0.00756%'],\n",
       " ['20110409_lr_RL_1.2', '155.34 kWh', '22038', '0.00760%'],\n",
       " ['20110411_lr_RL_1.2', '151.78 kWh', '21504', '0.00796%'],\n",
       " ['20110412_lr_RL_1.2', '131.28 kWh', '17939', '0.00768%']]"
      ]
     },
     "execution_count": 66,
     "metadata": {},
     "output_type": "execute_result"
    }
   ],
   "source": [
    "all_run_summary"
   ]
  },
  {
   "cell_type": "code",
   "execution_count": 67,
   "metadata": {},
   "outputs": [],
   "source": [
    "df = pd.DataFrame(data = all_run_summary,columns=['ExperimentName','Energy(KWh)_str','Migrations_str','SLA(%)_str'])"
   ]
  },
  {
   "cell_type": "code",
   "execution_count": 68,
   "metadata": {},
   "outputs": [
    {
     "name": "stdout",
     "output_type": "stream",
     "text": [
      "<class 'pandas.core.frame.DataFrame'>\n",
      "RangeIndex: 9 entries, 0 to 8\n",
      "Data columns (total 4 columns):\n",
      " #   Column           Non-Null Count  Dtype \n",
      "---  ------           --------------  ----- \n",
      " 0   ExperimentName   9 non-null      object\n",
      " 1   Energy(KWh)_str  9 non-null      object\n",
      " 2   Migrations_str   9 non-null      object\n",
      " 3   SLA(%)_str       9 non-null      object\n",
      "dtypes: object(4)\n",
      "memory usage: 416.0+ bytes\n"
     ]
    }
   ],
   "source": [
    "df.info()"
   ]
  },
  {
   "cell_type": "code",
   "execution_count": 69,
   "metadata": {},
   "outputs": [],
   "source": [
    "df['Energy(KWh)'] = df['Energy(KWh)_str'].apply(lambda x: x[:-3].strip()).astype(float)\n",
    "df['Migrations'] = df['Migrations_str'].astype(int)\n",
    "df['SLA(%)'] = df['SLA(%)_str'].apply(lambda x: x[:-1].strip()).astype(float)"
   ]
  },
  {
   "cell_type": "code",
   "execution_count": 70,
   "metadata": {},
   "outputs": [
    {
     "name": "stdout",
     "output_type": "stream",
     "text": [
      "<class 'pandas.core.frame.DataFrame'>\n",
      "RangeIndex: 9 entries, 0 to 8\n",
      "Data columns (total 7 columns):\n",
      " #   Column           Non-Null Count  Dtype  \n",
      "---  ------           --------------  -----  \n",
      " 0   ExperimentName   9 non-null      object \n",
      " 1   Energy(KWh)_str  9 non-null      object \n",
      " 2   Migrations_str   9 non-null      object \n",
      " 3   SLA(%)_str       9 non-null      object \n",
      " 4   Energy(KWh)      9 non-null      float64\n",
      " 5   Migrations       9 non-null      int32  \n",
      " 6   SLA(%)           9 non-null      float64\n",
      "dtypes: float64(2), int32(1), object(4)\n",
      "memory usage: 596.0+ bytes\n"
     ]
    }
   ],
   "source": [
    "df.info()"
   ]
  },
  {
   "cell_type": "code",
   "execution_count": 71,
   "metadata": {},
   "outputs": [
    {
     "data": {
      "text/html": [
       "<div>\n",
       "<style scoped>\n",
       "    .dataframe tbody tr th:only-of-type {\n",
       "        vertical-align: middle;\n",
       "    }\n",
       "\n",
       "    .dataframe tbody tr th {\n",
       "        vertical-align: top;\n",
       "    }\n",
       "\n",
       "    .dataframe thead th {\n",
       "        text-align: right;\n",
       "    }\n",
       "</style>\n",
       "<table border=\"1\" class=\"dataframe\">\n",
       "  <thead>\n",
       "    <tr style=\"text-align: right;\">\n",
       "      <th></th>\n",
       "      <th>ExperimentName</th>\n",
       "      <th>Energy(KWh)_str</th>\n",
       "      <th>Migrations_str</th>\n",
       "      <th>SLA(%)_str</th>\n",
       "      <th>Energy(KWh)</th>\n",
       "      <th>Migrations</th>\n",
       "      <th>SLA(%)</th>\n",
       "    </tr>\n",
       "  </thead>\n",
       "  <tbody>\n",
       "    <tr>\n",
       "      <th>0</th>\n",
       "      <td>20110303_lr_RL_1.2</td>\n",
       "      <td>142.26 kWh</td>\n",
       "      <td>17756</td>\n",
       "      <td>0.00724%</td>\n",
       "      <td>142.26</td>\n",
       "      <td>17756</td>\n",
       "      <td>0.00724</td>\n",
       "    </tr>\n",
       "    <tr>\n",
       "      <th>1</th>\n",
       "      <td>20110306_lr_RL_1.2</td>\n",
       "      <td>107.01 kWh</td>\n",
       "      <td>13160</td>\n",
       "      <td>0.00667%</td>\n",
       "      <td>107.01</td>\n",
       "      <td>13160</td>\n",
       "      <td>0.00667</td>\n",
       "    </tr>\n",
       "    <tr>\n",
       "      <th>2</th>\n",
       "      <td>20110309_lr_RL_1.2</td>\n",
       "      <td>120.46 kWh</td>\n",
       "      <td>15429</td>\n",
       "      <td>0.00816%</td>\n",
       "      <td>120.46</td>\n",
       "      <td>15429</td>\n",
       "      <td>0.00816</td>\n",
       "    </tr>\n",
       "    <tr>\n",
       "      <th>3</th>\n",
       "      <td>20110322_lr_RL_1.2</td>\n",
       "      <td>150.50 kWh</td>\n",
       "      <td>22709</td>\n",
       "      <td>0.00788%</td>\n",
       "      <td>150.50</td>\n",
       "      <td>22709</td>\n",
       "      <td>0.00788</td>\n",
       "    </tr>\n",
       "    <tr>\n",
       "      <th>4</th>\n",
       "      <td>20110325_lr_RL_1.2</td>\n",
       "      <td>128.59 kWh</td>\n",
       "      <td>17391</td>\n",
       "      <td>0.00760%</td>\n",
       "      <td>128.59</td>\n",
       "      <td>17391</td>\n",
       "      <td>0.00760</td>\n",
       "    </tr>\n",
       "  </tbody>\n",
       "</table>\n",
       "</div>"
      ],
      "text/plain": [
       "       ExperimentName Energy(KWh)_str Migrations_str SLA(%)_str  Energy(KWh)  \\\n",
       "0  20110303_lr_RL_1.2      142.26 kWh          17756   0.00724%       142.26   \n",
       "1  20110306_lr_RL_1.2      107.01 kWh          13160   0.00667%       107.01   \n",
       "2  20110309_lr_RL_1.2      120.46 kWh          15429   0.00816%       120.46   \n",
       "3  20110322_lr_RL_1.2      150.50 kWh          22709   0.00788%       150.50   \n",
       "4  20110325_lr_RL_1.2      128.59 kWh          17391   0.00760%       128.59   \n",
       "\n",
       "   Migrations   SLA(%)  \n",
       "0       17756  0.00724  \n",
       "1       13160  0.00667  \n",
       "2       15429  0.00816  \n",
       "3       22709  0.00788  \n",
       "4       17391  0.00760  "
      ]
     },
     "execution_count": 71,
     "metadata": {},
     "output_type": "execute_result"
    }
   ],
   "source": [
    "df.head()"
   ]
  },
  {
   "cell_type": "code",
   "execution_count": 72,
   "metadata": {},
   "outputs": [],
   "source": [
    "df['Days']=  [x+1 for x in range(9)]"
   ]
  },
  {
   "cell_type": "code",
   "execution_count": 73,
   "metadata": {},
   "outputs": [
    {
     "data": {
      "text/html": [
       "<div>\n",
       "<style scoped>\n",
       "    .dataframe tbody tr th:only-of-type {\n",
       "        vertical-align: middle;\n",
       "    }\n",
       "\n",
       "    .dataframe tbody tr th {\n",
       "        vertical-align: top;\n",
       "    }\n",
       "\n",
       "    .dataframe thead th {\n",
       "        text-align: right;\n",
       "    }\n",
       "</style>\n",
       "<table border=\"1\" class=\"dataframe\">\n",
       "  <thead>\n",
       "    <tr style=\"text-align: right;\">\n",
       "      <th></th>\n",
       "      <th>ExperimentName</th>\n",
       "      <th>Energy(KWh)_str</th>\n",
       "      <th>Migrations_str</th>\n",
       "      <th>SLA(%)_str</th>\n",
       "      <th>Energy(KWh)</th>\n",
       "      <th>Migrations</th>\n",
       "      <th>SLA(%)</th>\n",
       "      <th>Days</th>\n",
       "    </tr>\n",
       "  </thead>\n",
       "  <tbody>\n",
       "    <tr>\n",
       "      <th>0</th>\n",
       "      <td>20110303_lr_RL_1.2</td>\n",
       "      <td>142.26 kWh</td>\n",
       "      <td>17756</td>\n",
       "      <td>0.00724%</td>\n",
       "      <td>142.26</td>\n",
       "      <td>17756</td>\n",
       "      <td>0.00724</td>\n",
       "      <td>1</td>\n",
       "    </tr>\n",
       "    <tr>\n",
       "      <th>1</th>\n",
       "      <td>20110306_lr_RL_1.2</td>\n",
       "      <td>107.01 kWh</td>\n",
       "      <td>13160</td>\n",
       "      <td>0.00667%</td>\n",
       "      <td>107.01</td>\n",
       "      <td>13160</td>\n",
       "      <td>0.00667</td>\n",
       "      <td>2</td>\n",
       "    </tr>\n",
       "    <tr>\n",
       "      <th>2</th>\n",
       "      <td>20110309_lr_RL_1.2</td>\n",
       "      <td>120.46 kWh</td>\n",
       "      <td>15429</td>\n",
       "      <td>0.00816%</td>\n",
       "      <td>120.46</td>\n",
       "      <td>15429</td>\n",
       "      <td>0.00816</td>\n",
       "      <td>3</td>\n",
       "    </tr>\n",
       "    <tr>\n",
       "      <th>3</th>\n",
       "      <td>20110322_lr_RL_1.2</td>\n",
       "      <td>150.50 kWh</td>\n",
       "      <td>22709</td>\n",
       "      <td>0.00788%</td>\n",
       "      <td>150.50</td>\n",
       "      <td>22709</td>\n",
       "      <td>0.00788</td>\n",
       "      <td>4</td>\n",
       "    </tr>\n",
       "    <tr>\n",
       "      <th>4</th>\n",
       "      <td>20110325_lr_RL_1.2</td>\n",
       "      <td>128.59 kWh</td>\n",
       "      <td>17391</td>\n",
       "      <td>0.00760%</td>\n",
       "      <td>128.59</td>\n",
       "      <td>17391</td>\n",
       "      <td>0.00760</td>\n",
       "      <td>5</td>\n",
       "    </tr>\n",
       "  </tbody>\n",
       "</table>\n",
       "</div>"
      ],
      "text/plain": [
       "       ExperimentName Energy(KWh)_str Migrations_str SLA(%)_str  Energy(KWh)  \\\n",
       "0  20110303_lr_RL_1.2      142.26 kWh          17756   0.00724%       142.26   \n",
       "1  20110306_lr_RL_1.2      107.01 kWh          13160   0.00667%       107.01   \n",
       "2  20110309_lr_RL_1.2      120.46 kWh          15429   0.00816%       120.46   \n",
       "3  20110322_lr_RL_1.2      150.50 kWh          22709   0.00788%       150.50   \n",
       "4  20110325_lr_RL_1.2      128.59 kWh          17391   0.00760%       128.59   \n",
       "\n",
       "   Migrations   SLA(%)  Days  \n",
       "0       17756  0.00724     1  \n",
       "1       13160  0.00667     2  \n",
       "2       15429  0.00816     3  \n",
       "3       22709  0.00788     4  \n",
       "4       17391  0.00760     5  "
      ]
     },
     "execution_count": 73,
     "metadata": {},
     "output_type": "execute_result"
    }
   ],
   "source": [
    "df.head()"
   ]
  },
  {
   "cell_type": "code",
   "execution_count": 74,
   "metadata": {},
   "outputs": [
    {
     "data": {
      "text/plain": [
       "[Text(0.5, 1.0, 'Energy Consumption for 30 day workload (Lr-Mmt)')]"
      ]
     },
     "execution_count": 74,
     "metadata": {},
     "output_type": "execute_result"
    },
    {
     "data": {
      "image/png": "[encoded data removed]",
      "text/plain": [
       "<Figure size 432x288 with 1 Axes>"
      ]
     },
     "metadata": {
      "needs_background": "light"
     },
     "output_type": "display_data"
    }
   ],
   "source": [
    "sns.lineplot(data = df,x = 'Days',y='Energy(KWh)',markers=True).set(title='Energy Consumption for 30 day workload (Lr-Mmt)')"
   ]
  },
  {
   "cell_type": "code",
   "execution_count": 75,
   "metadata": {},
   "outputs": [
    {
     "data": {
      "text/plain": [
       "[Text(0.5, 1.0, 'No of VM Migrations for 30 day workload (Lr-Mmt)')]"
      ]
     },
     "execution_count": 75,
     "metadata": {},
     "output_type": "execute_result"
    },
    {
     "data": {
      "image/png": "[encoded data removed]",
      "text/plain": [
       "<Figure size 432x288 with 1 Axes>"
      ]
     },
     "metadata": {
      "needs_background": "light"
     },
     "output_type": "display_data"
    }
   ],
   "source": [
    "sns.lineplot(data = df,x = 'Days',y='Migrations',markers=True).set(title='No of VM Migrations for 30 day workload (Lr-Mmt)')"
   ]
  },
  {
   "cell_type": "code",
   "execution_count": 76,
   "metadata": {},
   "outputs": [
    {
     "data": {
      "text/plain": [
       "[Text(0.5, 1.0, 'SLA violation for 30 day workload (Lr-Mmt)')]"
      ]
     },
     "execution_count": 76,
     "metadata": {},
     "output_type": "execute_result"
    },
    {
     "data": {
      "image/png": "[encoded data removed]",
      "text/plain": [
       "<Figure size 432x288 with 1 Axes>"
      ]
     },
     "metadata": {
      "needs_background": "light"
     },
     "output_type": "display_data"
    }
   ],
   "source": [
    "sns.lineplot(data = df,x = 'Days',y='SLA(%)',markers=True).set(title='SLA violation for 30 day workload (Lr-Mmt)')"
   ]
  },
  {
   "cell_type": "code",
   "execution_count": 77,
   "metadata": {},
   "outputs": [],
   "source": [
    "df.to_csv('D:\\CloudSim2\\MultiLogsRL_New\\Lr-RL_30_day_logs.csv',index=False)"
   ]
  }
 ],
 "metadata": {
  "kernelspec": {
   "display_name": "Python (ml)",
   "language": "python",
   "name": "ml"
  },
  "language_info": {
   "codemirror_mode": {
    "name": "ipython",
    "version": 3
   },
   "file_extension": ".py",
   "mimetype": "text/x-python",
   "name": "python",
   "nbconvert_exporter": "python",
   "pygments_lexer": "ipython3",
   "version": "3.8.12"
  }
 },
 "nbformat": 4,
 "nbformat_minor": 2
}
