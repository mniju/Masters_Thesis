{
 "cells": [
  {
   "cell_type": "code",
   "execution_count": 2,
   "metadata": {},
   "outputs": [],
   "source": [
    "import os\n",
    "import random\n",
    "import shutil"
   ]
  },
  {
   "cell_type": "code",
   "execution_count": 4,
   "metadata": {},
   "outputs": [
    {
     "data": {
      "text/plain": [
       "['20110303',\n",
       " '20110306',\n",
       " '20110309',\n",
       " '20110322',\n",
       " '20110325',\n",
       " '20110403',\n",
       " '20110409',\n",
       " '20110411',\n",
       " '20110412']"
      ]
     },
     "execution_count": 4,
     "metadata": {},
     "output_type": "execute_result"
    }
   ],
   "source": [
    "folder_path = 'D:\\CloudSim2\\cloudsim-3.0.3\\cloudsim-3.0.3\\examples\\workload\\planetlabtest'\n",
    "folder_list = os.listdir(folder_path)\n",
    "folder_list"
   ]
  },
  {
   "cell_type": "code",
   "execution_count": 7,
   "metadata": {},
   "outputs": [
    {
     "name": "stdout",
     "output_type": "stream",
     "text": [
      "20110309\n",
      "20110409\n",
      "20110306\n",
      "20110306\n",
      "20110403\n",
      "20110403\n",
      "20110303\n",
      "20110306\n",
      "20110411\n",
      "20110409\n",
      "20110412\n",
      "20110325\n",
      "20110306\n",
      "20110411\n",
      "20110412\n",
      "20110411\n",
      "20110409\n",
      "20110403\n",
      "20110303\n",
      "20110403\n",
      "20110303\n",
      "20110306\n"
     ]
    }
   ],
   "source": [
    "complete_list = []\n",
    "list_len = []\n",
    "n_folders =22\n",
    "for i in range(n_folders):\n",
    "\n",
    "    src_folder = random.choice(folder_list)\n",
    "    print(src_folder)\n",
    "    dst_folder = os.path.join(folder_path,str(i+300))\n",
    "    os.mkdir(dst_folder)\n",
    "    src_files = os.listdir(os.path.join(folder_path,src_folder))\n",
    "    for src_file in src_files:\n",
    "        shutil.copy(os.path.join(folder_path,src_folder,src_file), dst_folder)\n",
    "\n",
    "    "
   ]
  }
 ],
 "metadata": {
  "kernelspec": {
   "display_name": "Python (ml)",
   "language": "python",
   "name": "ml"
  },
  "language_info": {
   "codemirror_mode": {
    "name": "ipython",
    "version": 3
   },
   "file_extension": ".py",
   "mimetype": "text/x-python",
   "name": "python",
   "nbconvert_exporter": "python",
   "pygments_lexer": "ipython3",
   "version": "3.8.12"
  }
 },
 "nbformat": 4,
 "nbformat_minor": 2
}
