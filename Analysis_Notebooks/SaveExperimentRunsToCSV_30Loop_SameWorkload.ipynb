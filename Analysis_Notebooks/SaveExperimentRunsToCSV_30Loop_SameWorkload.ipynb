{
 "cells": [
  {
   "cell_type": "code",
   "execution_count": 1,
   "metadata": {},
   "outputs": [],
   "source": [
    "import os\n",
    "import pandas as pd\n",
    "import seaborn as sns\n",
    "\n",
    "%matplotlib inline"
   ]
  },
  {
   "cell_type": "code",
   "execution_count": 13,
   "metadata": {},
   "outputs": [],
   "source": [
    "#base_folder_path = 'D:\\\\CloudSim2\\\\MultiLogsRL_Logs\\\\QlearningSoftmax\\\\Qlearning_softmax_0.8_0.6\\log'\n",
    "base_folder_path = 'D:\\\\CloudSim2\\\\MultiLogsRL_Report\\\\30Loops\\\\Qlearning_softmax_1.0_0.2'\n",
    "algorithm = base_folder_path.split('\\\\')[-1]"
   ]
  },
  {
   "cell_type": "code",
   "execution_count": 14,
   "metadata": {},
   "outputs": [],
   "source": [
    "\n",
    "def last_few_lines(file_name,n_lines):\n",
    "    file_handle = open(file_name)\n",
    "    file_size = file_handle.tell()\n",
    "    file_handle.seek(max(file_size - 2*1024, 0))\n",
    "    return file_handle.read().splitlines()[-n_lines:]"
   ]
  },
  {
   "cell_type": "code",
   "execution_count": 15,
   "metadata": {},
   "outputs": [],
   "source": [
    "\n",
    "required_indices = [0,4,5,6]\n",
    "#Iterate through Hyperparamater\n",
    "all_run_summary =[]\n",
    "for experiment in os.listdir(base_folder_path):\n",
    "    experiment_folder = os.path.join(base_folder_path,experiment,'log')\n",
    "    file_list = os.listdir(experiment_folder)\n",
    "    for file in file_list:\n",
    "        file_name = os.path.join(experiment_folder,file)\n",
    "        run_summary   = last_few_lines(file_name,25)\n",
    "        run_summary_required = [run_summary[index] for index in required_indices]\n",
    "        run_data =[]\n",
    "        for line in run_summary_required:\n",
    "            idx = line.find(':')\n",
    "            summary = line[idx+1:].strip()\n",
    "            run_data.append(summary)\n",
    "        all_run_summary.append(run_data)\n",
    "    \n",
    "df = pd.DataFrame(data = all_run_summary,columns=['ExperimentName','Energy(KWh)_str','Migrations_str','SLA(%)_str'])\n",
    "df['Energy(KWh)'] = df['Energy(KWh)_str'].apply(lambda x: x[:-3].strip()).astype(float)\n",
    "df['Migrations'] = df['Migrations_str'].astype(int)\n",
    "df['SLA(%)'] = df['SLA(%)_str'].apply(lambda x: x[:-1].strip()).astype(float)\n",
    "df['Days']=  [x+1 for x in range(30)]\n",
    "csv_path = os.path.join('D:\\\\CloudSim2\\\\MultiLogsRL_Report','CSVlogs',algorithm,experiment+'.csv')\n",
    "# Ensure the directory exists\n",
    "os.makedirs(os.path.dirname(csv_path), exist_ok=True)\n",
    "df.to_csv(csv_path,index=False)"
   ]
  }
 ],
 "metadata": {
  "kernelspec": {
   "display_name": "Python (ml)",
   "language": "python",
   "name": "ml"
  },
  "language_info": {
   "codemirror_mode": {
    "name": "ipython",
    "version": 3
   },
   "file_extension": ".py",
   "mimetype": "text/x-python",
   "name": "python",
   "nbconvert_exporter": "python",
   "pygments_lexer": "ipython3",
   "version": "3.8.12"
  }
 },
 "nbformat": 4,
 "nbformat_minor": 2
}
