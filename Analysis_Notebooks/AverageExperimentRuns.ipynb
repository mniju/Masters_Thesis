{
 "cells": [
  {
   "cell_type": "code",
   "execution_count": 1,
   "metadata": {},
   "outputs": [],
   "source": [
    "import os\n",
    "import pandas as pd\n",
    "\n",
    "%matplotlib inline"
   ]
  },
  {
   "cell_type": "code",
   "execution_count": 2,
   "metadata": {},
   "outputs": [],
   "source": [
    "def min_max_avg_stdev(df):\n",
    "    avg = df.mean()\n",
    "    stdev = df.std()\n",
    "    min = df.min()\n",
    "    max = df.max()\n",
    "    return min, max, avg, stdev"
   ]
  },
  {
   "cell_type": "code",
   "execution_count": 3,
   "metadata": {},
   "outputs": [],
   "source": [
    "def get_expermentinfo(experiment_name):\n",
    "    name_without_extension  = experiment_name.replace('.csv','')\n",
    "    name_parts = name_without_extension.split('_')\n",
    "    algorithm = name_parts[0]\n",
    "    policy= name_parts[1]\n",
    "    alpha = name_parts[2]\n",
    "    gamma = name_parts[3]\n",
    "    return algorithm,policy,alpha,gamma\n"
   ]
  },
  {
   "cell_type": "code",
   "execution_count": 4,
   "metadata": {},
   "outputs": [],
   "source": [
    "def create_row(df_original,experiment_name):\n",
    "    cols_to_calc = ['Energy(KWh)','Migrations','SLA(%)']  \n",
    "    algorithm,policy,alpha,gamma= get_expermentinfo(experiment_name) \n",
    "    row=[algorithm,policy,alpha,gamma]\n",
    "    for col in cols_to_calc:\n",
    "        min, max, avg, stdev = min_max_avg_stdev(df_original[col])\n",
    "        row.extend([min,max,avg,stdev]) \n",
    "    return row"
   ]
  },
  {
   "cell_type": "code",
   "execution_count": 16,
   "metadata": {},
   "outputs": [],
   "source": [
    "col_names = ['Algorithm','policy','alpha','gamma','energy_min','energy_max','energy_avg','energy_stdev','migrations_min','migrations_max','migrations_avg','migrations_stdev','SLA_min','SLA_max','SLA_avg','SLA_stdev']\n",
    "csvlogs_folder_path = 'D:\\\\CloudSim2\\\\MultiLogsRL_Report\\\\CSVlogs'\n",
    "consolidated_folder = 'D:\\\\CloudSim2\\\\MultiLogsRL_Report\\\\ConsolidatedLogs'\n",
    "\n",
    "#iterate through the folder\n",
    "for experimentfolder in os.listdir(csvlogs_folder_path):\n",
    "    rows =[]\n",
    "    #iterate through each hyper parameter combination\n",
    "    for experiment_file in os.listdir(os.path.join(csvlogs_folder_path,experimentfolder)):\n",
    "        #experiment_file = 'Qlearning_softmax_0.2_0.2.csv'\n",
    "        df_original = pd.read_csv(os.path.join(csvlogs_folder_path,experimentfolder,experiment_file))\n",
    "        row = create_row(df_original,experiment_file)\n",
    "        rows.append(row)\n",
    "    df_final = pd.DataFrame(rows, columns=col_names)\n",
    "    csv_name = experimentfolder+'.csv'\n",
    "    csv_path = os.path.join(consolidated_folder,csv_name)\n",
    "    # Ensure the directory exists\n",
    "    os.makedirs(os.path.dirname(csv_path), exist_ok=True)\n",
    "    df_final.to_csv(csv_path,index=False)\n"
   ]
  },
  {
   "cell_type": "markdown",
   "metadata": {},
   "source": []
  }
 ],
 "metadata": {
  "kernelspec": {
   "display_name": "Python (ml)",
   "language": "python",
   "name": "ml"
  },
  "language_info": {
   "codemirror_mode": {
    "name": "ipython",
    "version": 3
   },
   "file_extension": ".py",
   "mimetype": "text/x-python",
   "name": "python",
   "nbconvert_exporter": "python",
   "pygments_lexer": "ipython3",
   "version": "3.8.12"
  }
 },
 "nbformat": 4,
 "nbformat_minor": 2
}
