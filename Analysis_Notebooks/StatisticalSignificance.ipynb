{
 "cells": [
  {
   "cell_type": "code",
   "execution_count": 1,
   "metadata": {},
   "outputs": [],
   "source": [
    "import os\n",
    "import pandas as pd\n",
    "import seaborn as sns\n",
    "import scipy.stats as stats\n",
    "\n",
    "%matplotlib inline"
   ]
  },
  {
   "cell_type": "code",
   "execution_count": 47,
   "metadata": {},
   "outputs": [],
   "source": [
    "lrmmt_path = \"D:\\\\CloudSim2\\\\MultiLogsRL_Report\\\\CSVlogs\\\\OriginalCodeRun\\\\LrMmt.csv\"\n",
    "lrRL_path = \"D:\\\\CloudSim2\\\\MultiLogsRL_Report\\\\CSVlogs\\\\SARSA_Softmax\\\\SARSA_softmax_0.4_0.2.csv\""
   ]
  },
  {
   "cell_type": "code",
   "execution_count": 48,
   "metadata": {},
   "outputs": [],
   "source": [
    "df_lrmmt = pd.read_csv(lrmmt_path)\n",
    "df_RL = pd.read_csv(lrRL_path)"
   ]
  },
  {
   "cell_type": "code",
   "execution_count": 49,
   "metadata": {},
   "outputs": [],
   "source": [
    "def create_ESV(df):\n",
    "    df['ESV'] = (df[\"Energy(KWh)\"] * df[\"SLA(%)\"])/100\n",
    "    return df"
   ]
  },
  {
   "cell_type": "code",
   "execution_count": 50,
   "metadata": {},
   "outputs": [],
   "source": [
    "df_lrmmt = create_ESV(df_lrmmt)\n",
    "df_RL = create_ESV(df_RL)"
   ]
  },
  {
   "cell_type": "code",
   "execution_count": 51,
   "metadata": {},
   "outputs": [
    {
     "data": {
      "text/html": [
       "<div>\n",
       "<style scoped>\n",
       "    .dataframe tbody tr th:only-of-type {\n",
       "        vertical-align: middle;\n",
       "    }\n",
       "\n",
       "    .dataframe tbody tr th {\n",
       "        vertical-align: top;\n",
       "    }\n",
       "\n",
       "    .dataframe thead th {\n",
       "        text-align: right;\n",
       "    }\n",
       "</style>\n",
       "<table border=\"1\" class=\"dataframe\">\n",
       "  <thead>\n",
       "    <tr style=\"text-align: right;\">\n",
       "      <th></th>\n",
       "      <th>ExperimentName</th>\n",
       "      <th>Energy(KWh)_str</th>\n",
       "      <th>Migrations_str</th>\n",
       "      <th>SLA(%)_str</th>\n",
       "      <th>Energy(KWh)</th>\n",
       "      <th>Migrations</th>\n",
       "      <th>SLA(%)</th>\n",
       "      <th>Days</th>\n",
       "      <th>ESV</th>\n",
       "    </tr>\n",
       "  </thead>\n",
       "  <tbody>\n",
       "    <tr>\n",
       "      <th>0</th>\n",
       "      <td>20110303_lr_RL_1.2</td>\n",
       "      <td>140.37 kWh</td>\n",
       "      <td>15565</td>\n",
       "      <td>0.00684%</td>\n",
       "      <td>140.37</td>\n",
       "      <td>15565</td>\n",
       "      <td>0.00684</td>\n",
       "      <td>1</td>\n",
       "      <td>0.009601</td>\n",
       "    </tr>\n",
       "    <tr>\n",
       "      <th>1</th>\n",
       "      <td>20110306_lr_RL_1.2</td>\n",
       "      <td>105.13 kWh</td>\n",
       "      <td>10959</td>\n",
       "      <td>0.00613%</td>\n",
       "      <td>105.13</td>\n",
       "      <td>10959</td>\n",
       "      <td>0.00613</td>\n",
       "      <td>2</td>\n",
       "      <td>0.006444</td>\n",
       "    </tr>\n",
       "    <tr>\n",
       "      <th>2</th>\n",
       "      <td>20110309_lr_RL_1.2</td>\n",
       "      <td>117.98 kWh</td>\n",
       "      <td>12904</td>\n",
       "      <td>0.00758%</td>\n",
       "      <td>117.98</td>\n",
       "      <td>12904</td>\n",
       "      <td>0.00758</td>\n",
       "      <td>3</td>\n",
       "      <td>0.008943</td>\n",
       "    </tr>\n",
       "    <tr>\n",
       "      <th>3</th>\n",
       "      <td>20110322_lr_RL_1.2</td>\n",
       "      <td>147.27 kWh</td>\n",
       "      <td>19311</td>\n",
       "      <td>0.00751%</td>\n",
       "      <td>147.27</td>\n",
       "      <td>19311</td>\n",
       "      <td>0.00751</td>\n",
       "      <td>4</td>\n",
       "      <td>0.011060</td>\n",
       "    </tr>\n",
       "    <tr>\n",
       "      <th>4</th>\n",
       "      <td>20110325_lr_RL_1.2</td>\n",
       "      <td>126.57 kWh</td>\n",
       "      <td>14740</td>\n",
       "      <td>0.00682%</td>\n",
       "      <td>126.57</td>\n",
       "      <td>14740</td>\n",
       "      <td>0.00682</td>\n",
       "      <td>5</td>\n",
       "      <td>0.008632</td>\n",
       "    </tr>\n",
       "  </tbody>\n",
       "</table>\n",
       "</div>"
      ],
      "text/plain": [
       "       ExperimentName Energy(KWh)_str  Migrations_str SLA(%)_str  Energy(KWh)  \\\n",
       "0  20110303_lr_RL_1.2      140.37 kWh           15565   0.00684%       140.37   \n",
       "1  20110306_lr_RL_1.2      105.13 kWh           10959   0.00613%       105.13   \n",
       "2  20110309_lr_RL_1.2      117.98 kWh           12904   0.00758%       117.98   \n",
       "3  20110322_lr_RL_1.2      147.27 kWh           19311   0.00751%       147.27   \n",
       "4  20110325_lr_RL_1.2      126.57 kWh           14740   0.00682%       126.57   \n",
       "\n",
       "   Migrations   SLA(%)  Days       ESV  \n",
       "0       15565  0.00684     1  0.009601  \n",
       "1       10959  0.00613     2  0.006444  \n",
       "2       12904  0.00758     3  0.008943  \n",
       "3       19311  0.00751     4  0.011060  \n",
       "4       14740  0.00682     5  0.008632  "
      ]
     },
     "execution_count": 51,
     "metadata": {},
     "output_type": "execute_result"
    }
   ],
   "source": [
    "df_RL.head()"
   ]
  },
  {
   "cell_type": "code",
   "execution_count": 52,
   "metadata": {},
   "outputs": [],
   "source": [
    "def statistical_significance(df_lrmmt,df_RL,param):\n",
    "    # Perform the t-test\n",
    "    print(\"Parameter selected: \",param)\n",
    "    #t_statistic, p_value = stats.ttest_rel(df_lrmmt[param], df_RL[param]) \n",
    "    t_statistic, p_value = stats.ttest_ind(df_lrmmt[param], df_RL[param])\n",
    "    print(\"The P values is: \",p_value) \n",
    "\n",
    "    diff = df_RL[param]- df_lrmmt[param]\n",
    "    # Calculate the sample mean and standard error\n",
    "    mean = diff.mean()\n",
    "    sem = stats.sem(diff)  # Standard error of the mean\n",
    "\n",
    "    # Calculate the 95% confidence interval\n",
    "    confidence_interval = stats.t.interval(0.95, len(diff)-1, loc=mean, scale=sem)\n",
    "\n",
    "    print(\"95% confidence interval of difference:\", confidence_interval)\n",
    "\n",
    "    return"
   ]
  },
  {
   "cell_type": "code",
   "execution_count": 53,
   "metadata": {},
   "outputs": [
    {
     "name": "stdout",
     "output_type": "stream",
     "text": [
      "Parameter selected:  Energy(KWh)\n",
      "The P values is:  0.0016962694821308455\n",
      "95% confidence interval of difference: (-26.25526069071615, -23.207319954445133)\n"
     ]
    }
   ],
   "source": [
    "param = 'Energy(KWh)'\n",
    "statistical_significance(df_lrmmt,df_RL,param)"
   ]
  },
  {
   "cell_type": "code",
   "execution_count": 54,
   "metadata": {},
   "outputs": [
    {
     "name": "stdout",
     "output_type": "stream",
     "text": [
      "Parameter selected:  Migrations\n",
      "The P values is:  4.4029185551227934e-14\n",
      "95% confidence interval of difference: (-12992.942849455694, -11556.670053770113)\n"
     ]
    }
   ],
   "source": [
    "param = 'Migrations'\n",
    "statistical_significance(df_lrmmt,df_RL,param)"
   ]
  },
  {
   "cell_type": "code",
   "execution_count": 55,
   "metadata": {},
   "outputs": [
    {
     "name": "stdout",
     "output_type": "stream",
     "text": [
      "Parameter selected:  SLA(%)\n",
      "The P values is:  4.2039821934345506e-27\n",
      "95% confidence interval of difference: (0.0020186917934059624, 0.0023393727227230695)\n"
     ]
    }
   ],
   "source": [
    "param = 'SLA(%)'\n",
    "statistical_significance(df_lrmmt,df_RL,param)"
   ]
  },
  {
   "cell_type": "code",
   "execution_count": 56,
   "metadata": {},
   "outputs": [
    {
     "name": "stdout",
     "output_type": "stream",
     "text": [
      "Parameter selected:  ESV\n",
      "The P values is:  0.00013975034923353866\n",
      "95% confidence interval of difference: (0.001637268849257299, 0.002399185795903992)\n"
     ]
    }
   ],
   "source": [
    "param = 'ESV'\n",
    "statistical_significance(df_lrmmt,df_RL,param)"
   ]
  }
 ],
 "metadata": {
  "kernelspec": {
   "display_name": "Python (ml)",
   "language": "python",
   "name": "ml"
  },
  "language_info": {
   "codemirror_mode": {
    "name": "ipython",
    "version": 3
   },
   "file_extension": ".py",
   "mimetype": "text/x-python",
   "name": "python",
   "nbconvert_exporter": "python",
   "pygments_lexer": "ipython3",
   "version": "3.8.12"
  }
 },
 "nbformat": 4,
 "nbformat_minor": 2
}
